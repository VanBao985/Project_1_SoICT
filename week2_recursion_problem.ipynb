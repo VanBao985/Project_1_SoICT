{
 "cells": [
  {
   "cell_type": "markdown",
   "metadata": {},
   "source": [
    "1. Given two positive integers k and n. Compute C(k,n) which is the number of ways to select k objects from a given set of n objects."
   ]
  },
  {
   "cell_type": "code",
   "execution_count": null,
   "metadata": {},
   "outputs": [],
   "source": [
    "#DYNAMIC PROGRAMMING\n",
    "MOD = 10**9 + 7\n",
    "data = input().split()\n",
    "k, n = int(data[0]), int(data[1])\n",
    "C = [[0 for _ in range(n+1)] for _ in range(n+1)]\n",
    "for i in range(n+1):\n",
    "    C[i][0] = 1  \n",
    "    C[i][i] = 1 \n",
    "\n",
    "for i in range(1, n+1):\n",
    "    for j in range(1, i):\n",
    "        C[i][j] = (C[i-1][j-1] + C[i-1][j]) % MOD\n",
    "print(C[n][k])\n"
   ]
  },
  {
   "cell_type": "markdown",
   "metadata": {},
   "source": [
    "2. Given an integer n, write a program to generate all permutations of 1, 2, ..., n in a lexicalgraphic order (elements of a permutation are separated by a SPACE character)."
   ]
  },
  {
   "cell_type": "code",
   "execution_count": null,
   "metadata": {},
   "outputs": [],
   "source": [
    "def permute(nums):\n",
    "    result = []\n",
    "    backtrack(nums, [], result)\n",
    "    return result\n",
    " \n",
    "def backtrack(nums, UCV, result):\n",
    "    if not nums:\n",
    "        result.append(UCV)\n",
    "    for i in range(len(nums)):\n",
    "        backtrack(nums[:i] + nums[i+1:], UCV + [nums[i]], result)\n",
    " \n",
    "n = int(input())\n",
    "nums = [x for x in range(1, n+1)]\n",
    "sol = permute(nums=nums)\n",
    "for line in sol:\n",
    "    for x in line:\n",
    "        print(x, end=\" \")\n",
    "    print()"
   ]
  },
  {
   "cell_type": "markdown",
   "metadata": {},
   "source": [
    "3. Given a fibonacci sequence a[0], a[1], a[2], ... in which:  a[0] = 0, a[1] = 1, a[n] = a[n-1] + a[n-2], for all n >= 2\n",
    "Given  positive integer n, compute a[n-1]."
   ]
  },
  {
   "cell_type": "code",
   "execution_count": null,
   "metadata": {},
   "outputs": [],
   "source": [
    "n = int(input())\n",
    "a = [0 for _ in range(n+1)]\n",
    "a[0], a[1]=0, 1\n",
    "for x in range(2, n+1):\n",
    "    a[x]=a[x-1]+a[x-2]\n",
    "print(a[n-1])"
   ]
  },
  {
   "cell_type": "markdown",
   "metadata": {},
   "source": [
    "4. Write a program to compute the number of sudoku solutions (fill the zero elements of a given partial sudoku table)\n",
    "Fill numbers from 1, 2, 3, .., 9 to 9 x 9 table so that:\n",
    "Numbers of each row are distinct\n",
    "Numbers of each column are distinct\n",
    "Numbers on each sub-square 3 x 3 are distinct"
   ]
  },
  {
   "cell_type": "code",
   "execution_count": null,
   "metadata": {},
   "outputs": [],
   "source": [
    "C=[]\n",
    "for r in range(9):\n",
    "    data = input().split()\n",
    "    C.append(data)\n",
    "\n",
    "nums=\"123456789\"\n",
    "cnt = 0\n",
    "def solve_sudoku(matrix):\n",
    "    global cnt\n",
    "    for r in range(9):\n",
    "        for c in range(9):\n",
    "            if matrix[r][c]=='0':\n",
    "                for num in nums:\n",
    "                    if is_correct(matrix, r, c, num):\n",
    "                        matrix[r][c]=num\n",
    "                        solve_sudoku(matrix)\n",
    "                        matrix[r][c]='0'\n",
    "                return\n",
    "    cnt +=1\n",
    "\n",
    "def is_correct(matrix, row, col, num):\n",
    "    for i in range(9):\n",
    "        if matrix[row][i]==num or matrix[i][col]==num:\n",
    "            return False\n",
    "        elif matrix[3 * (row // 3) + i // 3][3 * (col // 3) + i % 3] == num:\n",
    "            return False\n",
    "    return True\n",
    "\n",
    "solve_sudoku(C)\n",
    "print(cnt)"
   ]
  },
  {
   "cell_type": "markdown",
   "metadata": {},
   "source": [
    "6. There are two jugs, a-litres jug and b-litres jug (a, b are positive integers). There is a pump with unlimited water. Given a positive integer c, how to get exactly c litres.\n",
    "(2 bình a lít, b lít... Tạo ra được chính xác c lít)"
   ]
  },
  {
   "cell_type": "markdown",
   "metadata": {},
   "source": [
    "Điều kiện bài toán: `c % gdc(a, b) = 0`\n",
    "Cách thực hiện: 1 bình đầy -> đổ, 1 bình rỗng -> đỗ đầy, cứ làm như vậy cho tới khi 1 trong 2 bình đạt được c lít <br>\n",
    "Chi tiet: <a href=https://www.geeksforgeeks.org/two-water-jug-puzzle>Two water jug problem</a>"
   ]
  },
  {
   "cell_type": "code",
   "execution_count": null,
   "metadata": {},
   "outputs": [],
   "source": [
    "from math import gcd\n",
    "s = input()\n",
    "data = [int(x) for x in s.split()]\n",
    "a, b, c = data[0], data[1], data[2]\n",
    "\n",
    "def pour(from_cap, to_cap, c):\n",
    "    from_now = from_cap\n",
    "    to_now = 0\n",
    "    step = 0\n",
    "    while from_now != c and to_now != c:\n",
    "        step +=1\n",
    "        temp = min(from_now, to_cap-to_now)\n",
    "        # pour\n",
    "        from_now = from_now - temp\n",
    "        to_now = to_now + temp\n",
    "\n",
    "        if from_now == 0: \n",
    "            step += 1\n",
    "            from_now = from_cap\n",
    "        elif to_now == to_cap:\n",
    "            step += 1\n",
    "            to_now = 0\n",
    "    return step\n",
    "\n",
    "def min_step(a, b, c):\n",
    "    if c % gcd(a, b)!=0:\n",
    "        return -1\n",
    "    return min(pour(a, b, c), pour(b, a, c))\n",
    "print(min_step(a, b, c))"
   ]
  },
  {
   "cell_type": "markdown",
   "metadata": {},
   "source": [
    "## 7. Binary sequences\n",
    "Given an integer n, write a program that generates all binary sequences without consecutive 11 in a lexicographic order."
   ]
  },
  {
   "cell_type": "code",
   "execution_count": null,
   "metadata": {},
   "outputs": [],
   "source": [
    "result=[]\n",
    "def gen_binary(s, n):\n",
    "    if n==0:\n",
    "        result.append(s)\n",
    "        return\n",
    "    for k in range(2):\n",
    "        if s != \"\" and s[-1]==\"1\" and k==1:\n",
    "            continue\n",
    "        gen_binary(s+str(k), n-1)\n",
    "        \n",
    "\n",
    "n = int(input())\n",
    "gen_binary(\"\",n)\n",
    "print(\"\\n\".join(map(str,result)))"
   ]
  }
 ],
 "metadata": {
  "kernelspec": {
   "display_name": "Python 3",
   "language": "python",
   "name": "python3"
  },
  "language_info": {
   "codemirror_mode": {
    "name": "ipython",
    "version": 3
   },
   "file_extension": ".py",
   "mimetype": "text/x-python",
   "name": "python",
   "nbconvert_exporter": "python",
   "pygments_lexer": "ipython3",
   "version": "3.12.2"
  }
 },
 "nbformat": 4,
 "nbformat_minor": 2
}
